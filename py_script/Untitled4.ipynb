version https://git-lfs.github.com/spec/v1
oid sha256:bf331268a337becf4d87264bd237b3034d327abb4f900ddc482c24deadec3fea
size 577
