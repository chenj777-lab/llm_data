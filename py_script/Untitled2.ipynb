version https://git-lfs.github.com/spec/v1
oid sha256:7db15799bb6c6c0bb7c91397ca68abf8aefb9809e68692c4f0345ac8247b0186
size 15571
